{
 "cells": [
  {
   "cell_type": "code",
   "execution_count": 1,
   "id": "b6f249ed-622f-4656-b473-63705760cbba",
   "metadata": {},
   "outputs": [],
   "source": [
    "import pandas as pd\n",
    "from sklearn.feature_extraction.text import CountVectorizer\n",
    "from sklearn.linear_model import LogisticRegression\n",
    "from sklearn.pipeline import make_pipeline\n",
    "import warnings"
   ]
  },
  {
   "cell_type": "code",
   "execution_count": 2,
   "id": "3ca139d0-adca-4423-bd08-db35437898ef",
   "metadata": {},
   "outputs": [],
   "source": [
    "def preprocess_data(train_file_path, test_file_path):\n",
    "    \"\"\"\n",
    "    Preprocesses the training and test data.\n",
    "\n",
    "    Parameters:\n",
    "    train_file_path (string): The file path to the training data CSV file.\n",
    "    test_file_path (string): The file path to the test data CSV file.\n",
    "\n",
    "    Returns:\n",
    "    tuple: A tuple containing preprocessed data:\n",
    "        - X_train -> Series of training text data.\n",
    "        - y_train -> Series of training labels.\n",
    "        - X_test -> Series of test text data.\n",
    "        - test_ids -> Series of test IDs.\n",
    "    \"\"\"\n",
    "\n",
    "    train_df = pd.read_csv(train_file_path)\n",
    "    train_df['TEXT'] = train_df['TEXT'].fillna(\"\")\n",
    "    X_train = train_df['TEXT']\n",
    "    y_train = train_df['LABEL']\n",
    "    test_df = pd.read_csv(test_file_path)\n",
    "    test_df['TEXT'] = test_df['TEXT'].fillna(\"\")\n",
    "    \n",
    "    return X_train, y_train, test_df['TEXT'], test_df['ID']"
   ]
  },
  {
   "cell_type": "code",
   "execution_count": 3,
   "id": "495952c6-5d07-4241-b4d8-d9a13965a30a",
   "metadata": {},
   "outputs": [],
   "source": [
    "def train_model(X_train, y_train):\n",
    "    \"\"\"\n",
    "    Train a logistic regression model using CountVectorizer for feature engineering.\n",
    "\n",
    "    Parameters:\n",
    "    - X_train (array): Training data containing text inputs.\n",
    "    - y_train (array): Training labels corresponding to X_train.\n",
    "\n",
    "    Returns:\n",
    "    - trained_model (Pipeline): Trained pipeline containing CountVectorizer and LogisticRegression.\n",
    "    \"\"\"\n",
    "\n",
    "    vectorizer = CountVectorizer(analyzer='word', max_features=35000, ngram_range=(1, 2))\n",
    "    classifier = LogisticRegression(C=4)\n",
    "    pipeline = make_pipeline(vectorizer, classifier)\n",
    "\n",
    "    with warnings.catch_warnings():\n",
    "        warnings.simplefilter(\"ignore\")\n",
    "        pipeline.fit(X_train, y_train)\n",
    "    \n",
    "    return pipeline"
   ]
  },
  {
   "cell_type": "code",
   "execution_count": 4,
   "id": "316b463b-4425-4a6a-917e-d963a4773f84",
   "metadata": {},
   "outputs": [],
   "source": [
    "def predict_and_save_submission(model, X_test, test_ids, submission_file_path):\n",
    "    \"\"\"\n",
    "    Predict labels for the test data using the trained model from above and save the submission file.\n",
    "\n",
    "    Parameters:\n",
    "        model (object): The trained machine learning model used for prediction.\n",
    "        X_test (pd.Series): The test data features.\n",
    "        test_ids (pd.Series): The IDs corresponding to the test data samples.\n",
    "        submission_file_path (string): The file path where the submission CSV file will be saved.\n",
    "\n",
    "    Returns:\n",
    "        None\n",
    "    \"\"\"\n",
    "\n",
    "    predictions = model.predict(X_test)\n",
    "    submission_df = pd.DataFrame({'ID': test_ids, 'LABEL': predictions})\n",
    "    submission_df.to_csv(submission_file_path, index=False)"
   ]
  },
  {
   "cell_type": "code",
   "execution_count": 5,
   "id": "00bcc012-9014-4979-9a3f-560b44e94c0b",
   "metadata": {},
   "outputs": [],
   "source": [
    "def main(train_file_path, test_file_path, submission_file_path):\n",
    "    \"\"\"\n",
    "    Perform text classification on the given training and test data and save the submission file.\n",
    "\n",
    "    Parameters:\n",
    "    - train_file_path (string): Path to the CSV file containing training data.\n",
    "    - test_file_path (string): Path to the CSV file containing test data.\n",
    "    - submission_file_path (string): Path to save the submission CSV file.\n",
    "\n",
    "    Returns:\n",
    "    None\n",
    "    \"\"\"\n",
    "\n",
    "    X_train, y_train, X_test, test_ids = preprocess_data(train_file_path, test_file_path)\n",
    "    model = train_model(X_train, y_train)\n",
    "    predict_and_save_submission(model, X_test, test_ids, submission_file_path)\n",
    "\n",
    "main('C:/Users/ual-laptop/Downloads/train.csv/train.csv',\n",
    "     'C:/Users/ual-laptop/Downloads/test.csv/test.csv',\n",
    "     'C:/Users/ual-laptop/Downloads/submission_final.csv')"
   ]
  },
  {
   "cell_type": "code",
   "execution_count": null,
   "id": "20ec2ca3-7cdf-438c-adfd-c70ffa78f982",
   "metadata": {},
   "outputs": [],
   "source": []
  }
 ],
 "metadata": {
  "kernelspec": {
   "display_name": "Python 3 (ipykernel)",
   "language": "python",
   "name": "python3"
  },
  "language_info": {
   "codemirror_mode": {
    "name": "ipython",
    "version": 3
   },
   "file_extension": ".py",
   "mimetype": "text/x-python",
   "name": "python",
   "nbconvert_exporter": "python",
   "pygments_lexer": "ipython3",
   "version": "3.11.7"
  }
 },
 "nbformat": 4,
 "nbformat_minor": 5
}
